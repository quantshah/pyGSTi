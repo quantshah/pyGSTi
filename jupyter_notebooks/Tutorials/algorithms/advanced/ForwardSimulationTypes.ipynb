{
 "cells": [
  {
   "cell_type": "markdown",
   "metadata": {},
   "source": [
    "# Quantum state propagation in pyGSTi\n",
    "The ability prepare, propagate, and measure quantum states in simulations is a core capability of pyGSTi.  We call the calculation of circuit outcome probabilities *forward simulation*, and this type of calculation lies at the heart of Gate Set Tomography and other characterization protocols which need to compare a model's predictions with actual data.  As you're probably already encountered through other tutorials, `Model` objects have a `.probabilities(circuit)` method that performs forward simulation (computes the outcome probabilities of `circuit`).  \n",
    "\n",
    "What is not so apparent is that there can be several different types of computational \"engines\" under the hood of a `Model` that do the heavy lifting within a call to `probs`.  **Understanding the different types of forward simulation engines in pyGSTi is the topic of this tutorial.**\n",
    "\n",
    "First, let's lay down a bit of background.  A `Model` contains a `.evotype` attribute that describes what type of *state* object is being stored and propagated by the model - the *evolution type*.  Allowed values are:\n",
    "- `\"densitymx\"`: a *mixed* state is propagated as a vectorized density matrix (of length $4^n$ for $n$ qubits) in a Hermitian basis (so its elements are *real*).  If an operation is represented as a dense (real) matrix, its shape is $4^n \\times 4^n$.  This is the default evolution type in pyGSTi.\n",
    "- `\"statevec\"`: a *pure* state is propagated as a complex state vector (of length $2^n$ for $n$ qubits).  Dense operations representations are $2^n \\times 2^n$ unitary matrices in this case.  Because of the lower dimensionality, state-vector propagation is faster than density-matrix propagation, and is therefore preferable when all preparations and POVM effects are pure states and projections, and all operations are unitary.\n",
    "- `\"stabilizer\"`: a *stabilizer* state is propagated by keeping track of its stabilizer (and anti-stabilizer) group generators.  This only requires memory that scales with $n$ for $n$ qubits, and so this state representation offers significantly more efficient simulation than the two aforementioned evolution types.  The caveat is preparations must prepare a stabilizer state, POVMs must measure in the computational $z$-basis, and *all operations must be Clifford elements*, mapping Pauli group elements to Pauli group elements.\n",
    "- `\"svterm\"` and `\"cterm\"`: <font style=\"color:red\">advanced topic to be added at a later time</font>.\n",
    "\n",
    "\n",
    "Every operator (state preparation, POVM, gate/layer operation) within a `Model` also has an evolution type, and it must match the parent `Model`'s `.evotype`.  (You usually don't need to worry about this; `Model` objects are created with a given `evotype` and their contained elements are created to match that type.)  \n",
    "\n",
    "Related to their `evotype`, `Model` objects also have a `simtype` attribute.  This attribute determines which forward simulation engine is used when the model is asked to compute circuit probabilities.  There are again several different options, but each `simtype` value is only compatible with certain evolution types (`evotype` value):\n",
    "- `\"map\"`: propagate a `\"densitymx\"`, `\"statevec\"`, `\"stabilizer\"` state by repeatedly acting with circuit layer operators, treated as maps from an input to an output state.  When there is a dense layer-operation matrix for each circuit layer, this engine repeatedly performs matrix-vector products (one per layer, between the operation matrix and column-vector state) and finally contracts the result with each row-vector POVM effect to get outcome probabilities.  This is the most straightforward and intuitive of the forward simulation engines, so much so that you may be thinking \"what else would you do?\".  Keep reading :)\n",
    "- `\"matrix\"`: propagate a `\"densitymx\"` or `\"statevec\"` state by composing a dense operation matrix for the entire circuit and then applying that \"circuit map\" to the input state.  Each circuit layer *must be representable as a dense matrix* to use this forward simulation type, as it multiplies together the matrices of each layer (in reverse order!) to get a single \"circuit matrix* and then contracts this matrix between the (column vector) state preparation and each of the (row vector) POVM effects (and norm-squaring the result when the evolution type is `\"statevec\"`) to get outcome probabilities.  At first glance this seems like a very inefficient way to compute probabilities since it performs matrix-matrix instead of matrix-vector multiplications, and it is true that this method should not be used with many-qubit models.  However, for lower dimensional Hilbert spaces (1-2 qubits in practice) the ability to cache and reuse intermediate results can make this method faster than the `\"map\"` method when the outcome probabilities of *many* circuits are needed at once (as is the case in Gate Set Tomography, for instance).  Indeed, it was specifically for 1- and 2-qubit GST that this method was implemented.  Apart from this case, `\"map\"` should be used (thought using `\"matrix\"` instead on 1 or 2 qubit systems often achieves similar run times because of other technical implementation factors).\n",
    "- `\"termorder\"`: <font style=\"color:red\">advanced topic to be added at a later time</font>\n",
    "\n",
    "\n",
    "Thus, but setting a model's `evotype` and `simtype` you can specify how circuit-probability-computation is implemented.  But how do you set these values?  The `evotype` of a `Model` is almost always set for good when the object is created.  The `simtype` *can* be changed using the `set_simtype` method of a `Model`, but it's usually set to an appropriate value at object-creation time and doesn't need to be altered.  Here's how several of pyGSTi's model-construction routines allow you to set (or set for you) the `evotype` and `simtype` (note that this is often done *indirectly*, as setting the `evotype` is largely done \"under the hood\", and the default behavior is usually what is desired):\n",
    "- When creating an empty `ExplicitOpModel`, you can specify `evotype` and `sim_type` arguments.\n",
    "\n",
    "\n",
    "- `pygsti.construction.create_explicit_model` currently *always* creates a model with the `\"densitymx\"` evolution type.  (It accepts a `parameterization` argument, which may, in the future, be used to construct models with other evolution types.)\n",
    "\n",
    "\n",
    "- `pygsti.construction.build_standard_localnoise_model`, `LocalNoiseModel.build_standard`, and just `LocalNoiseModel` have a `parameterization` argument which is the easiest way to create models with various evolution types.  Here is an incomplete list of valid `parameterization` values and the corresponding evolution type of the created `Model`:\n",
    " - `\"static\"`, `\"full\"`, `\"TP\"`, `\"CPTP\"`, `\"H+S\"` $\\rightarrow$ `\"densitymx\"`\n",
    " - `\"static unitary\"` $\\rightarrow$ `\"statevec\"`\n",
    " - `\"clifford\"` $\\rightarrow$ `\"stabilizer\"`\n",
    " - `\"H+S\"` $\\rightarrow$ `\"densitymx\"`\n",
    " - `\"H+S terms\"` $\\rightarrow$ `\"svterm\"`\n",
    " - `\"H+S clifford terms\"` $\\rightarrow$ `\"cterm\"`\n",
    " \n",
    " There are also a separate `\"evotype\"` argument, which should usually be left as `\"auto\"` unless you want to override the default behavior of the `parameterization` argument.  The `\"sim_type\"` argument can be used to override the default choice of forward simulation type/engine, which is usually unnecessary.  The `\"matrix\"` simulator is used only for $\\le 2$ qubits, for instance.\n",
    "\n",
    "\n",
    "- `pygsti.construction.build_standard_cloudnoise_model`, `CloudNoiseModel.build_standard`, and just `CloudNoiseModel` similarly have a `parameterization` argument which determines the evolution type.  Here are some allowed examples:\n",
    " - `\"H+S\"` $\\rightarrow$ `\"densitymx\"`\n",
    " - `\"H+S terms\"` $\\rightarrow$ `\"svterm\"`\n",
    " - `\"H+S clifford terms\"` $\\rightarrow$ `\"cterm\"`\n",
    " \n",
    " Similar to the local noisie model case, the `\"sim_type\"` argument can be used to override the default choice of forward simulation type/engine, which is usually unnecessary. \n",
    " \n",
    " \n",
    "Below, we'll demonstrate the use of different evolution and forward-simulation types using a local-noise model on 5 and then 10 qubits.  \n",
    "\n",
    "## 5 qubits\n",
    "First, let's generate a random circuit using the `pygsti.algorithms.randomcicuit` module.  Random circuits are primarily used in Randomized Benchmarking (see the [RB tutorial](../RB-Overview.ipynb) for more information about running RB); here we just use it as an easy way to create an example circuit without having to write down one by hand."
   ]
  },
  {
   "cell_type": "code",
   "execution_count": 1,
   "metadata": {},
   "outputs": [
    {
     "name": "stdout",
     "output_type": "stream",
     "text": [
      "Qubit 0 ---|C1|-|C1|-|Gy|-|Gy|-|Gx|-|Gy|-|Gy|-|C1|-|Gy|-|C1|-|Gy|-|Gx|-|Gx|-|Gx|-|C1|-|C1|-|Gy|-|Gx|-|C1|-|Gx|---\n",
      "Qubit 1 ---|T0|-|T0|-|Gy|-|Gy|-|Gx|-|Gy|-|Gx|-|T0|-|Gx|-|T0|-|Gy|-|Gx|-|C2|-|C2|-|T0|-|T0|-|C2|-|Gx|-|T0|-|Gy|---\n",
      "Qubit 2 ---|C3|-|Gx|-|Gy|-|Gy|-|Gy|-|Gx|-|C3|-|C3|-|Gx|-|Gx|-|Gy|-|Gy|-|T1|-|T1|-|C3|-|Gx|-|T1|-|C3|-|C3|-|Gx|---\n",
      "Qubit 3 ---|T2|-|C4|-|Gy|-|C4|-|C4|-|C4|-|T2|-|T2|-|Gy|-|C4|-|Gy|-|C4|-|Gy|-|C4|-|T2|-|Gy|-|C4|-|T2|-|T2|-|Gx|---\n",
      "Qubit 4 ---|Gy|-|T3|-|Gy|-|T3|-|T3|-|T3|-|Gx|-|Gx|-|Gx|-|T3|-|Gy|-|T3|-|Gy|-|T3|-|Gy|-|Gy|-|T3|-|Gy|-|Gx|-|Gx|---\n",
      "\n"
     ]
    }
   ],
   "source": [
    "import pygsti, time\n",
    "import numpy as np\n",
    "\n",
    "n_qubits = 5\n",
    "ps = pygsti.obj.QubitProcessorSpec(num_qubits=n_qubits, gate_names=['Gx','Gy','Gcnot'],\n",
    "                              availability={'Gcnot': [(i,i+1) for i in range(n_qubits-1)]},\n",
    "                              construct_models=('clifford',))\n",
    "c = pygsti.algorithms.randomcircuit.create_random_circuit(ps, length=20)\n",
    "print(c)"
   ]
  },
  {
   "cell_type": "markdown",
   "metadata": {},
   "source": [
    "Propagate a **density matrix** (`\"densitymx\"` evolution type) using the **matrix-matrix multiplying** forward simulator (`\"matrix\"`):"
   ]
  },
  {
   "cell_type": "code",
   "execution_count": 2,
   "metadata": {},
   "outputs": [
    {
     "name": "stdout",
     "output_type": "stream",
     "text": [
      "Gx gate is a  <class 'pygsti.objects.operation.StaticArbitraryOp'>\n"
     ]
    },
    {
     "name": "stderr",
     "output_type": "stream",
     "text": [
      "/Users/sserita/Documents/repos/pyGSTi/pygsti/objects/evaltree.py:192: UserWarning: Created an evaluation tree that is inefficient: tree-size > 10 * #circuits !\n",
      "This is likely due to the fact that the circuits being simulated do not have a\n",
      "periodic structure. Consider using a different forward simulator (e.g. MapForwardSimulator).\n",
      "  _warnings.warn((\"Created an evaluation tree that is inefficient: tree-size > %d * #circuits !\\n\"\n"
     ]
    },
    {
     "name": "stdout",
     "output_type": "stream",
     "text": [
      "32 probabilities computed in 2.017s\n"
     ]
    }
   ],
   "source": [
    "mdl = pygsti.construction.create_localnoise_model(\n",
    "        n_qubits, ['Gx','Gy','Gcnot'], simulator=\"matrix\")\n",
    "print(\"Gx gate is a \",type(mdl.operation_blks['gates']['Gx']))\n",
    "t0 = time.time()\n",
    "out = mdl.probabilities(c)\n",
    "print(\"%d probabilities computed in %.3fs\" % (len(out), time.time()-t0))"
   ]
  },
  {
   "cell_type": "markdown",
   "metadata": {},
   "source": [
    "We can also propagate a density matrix using the **matrix-vector multiplying** forward simulator (`\"map\"`).  This forward simulator is much faster for even several (5) qubits.  This is why pyGSTi automatically selects the `\"map\"` simulator when the number of qubits is $\\ge 2$."
   ]
  },
  {
   "cell_type": "code",
   "execution_count": 3,
   "metadata": {},
   "outputs": [
    {
     "name": "stdout",
     "output_type": "stream",
     "text": [
      "32 probabilities computed in 0.006s\n"
     ]
    }
   ],
   "source": [
    "mdl = pygsti.construction.create_localnoise_model(\n",
    "        n_qubits, ['Gx','Gy','Gcnot'], simulator=\"map\")\n",
    "t0 = time.time()\n",
    "out2 = mdl.probabilities(c)\n",
    "print(\"%d probabilities computed in %.3fs\" % (len(out2), time.time()-t0))\n",
    "assert(all([np.isclose(out[k],out2[k]) for k in out])) # check that the probabilites are the same"
   ]
  },
  {
   "cell_type": "markdown",
   "metadata": {},
   "source": [
    "If we don't need to consider mixed states, we can represent the quantum state using a **state vector** (`\"statevec\"`, selected by the `\"static unitary\"` parameterization type) and use either the matrix-matrix or matrix-vector product simulation types (the latter is again considerably faster even for just 5 qubits):"
   ]
  },
  {
   "cell_type": "code",
   "execution_count": 4,
   "metadata": {},
   "outputs": [],
   "source": [
    "# TODO: These both have issues\n",
    "# For matrix, get a NotImplemented error with evotype=\"statevec\"\n",
    "# For map, run into very similar rep issue as the objects/advanced/QubitProcessorSpec clifford simulation\n",
    "# TypeError: Cannot convert pygsti.objects.replib.fastreplib.SVStateRep to pygsti.objects.replib.fastreplib.DMStateRep\n",
    "#mdl = pygsti.construction.create_localnoise_model(\n",
    "#        n_qubits, ['Gx','Gy','Gcnot'], parameterization=\"static\", evotype=\"statevec\", simulator=\"matrix\")\n",
    "#t0 = time.time()\n",
    "#out3 = mdl.probabilities(c)\n",
    "#print(\"Mat-mat: %d probabilities in %.3fs\" % (len(out3), time.time()-t0))\n",
    "#assert(all([np.isclose(out[k],out3[k]) for k in out])) # check that the probabilites are the same\n",
    "\n",
    "#mdl = pygsti.construction.create_localnoise_model(\n",
    "#        n_qubits, ['Gx','Gy','Gcnot'], parameterization=\"static\", evotype=\"statevec\", simulator=\"map\")\n",
    "#t0 = time.time()\n",
    "#out4 = mdl.probabilities(c)\n",
    "#print(\"Mat-vec: %d probabilities in %.3fs\" % (len(out4), time.time()-t0))\n",
    "#assert(all([np.isclose(out[k],out4[k]) for k in out])) # check that the probabilites are the same"
   ]
  },
  {
   "cell_type": "markdown",
   "metadata": {},
   "source": [
    "Finally, if all the gates are **Clifford** operations (as they are in this case), we can use the `\"clifford\"` parameterization to propagate a `\"stabilizer\"` state.  Only the `\"map\"` simulation type is compatible with the `\"stabilizer\"` evolution type (selected automatically)."
   ]
  },
  {
   "cell_type": "code",
   "execution_count": null,
   "metadata": {},
   "outputs": [
    {
     "name": "stdout",
     "output_type": "stream",
     "text": [
      "Gx gate is a  <class 'pygsti.objects.operation.StaticCliffordOp'>\n"
     ]
    },
    {
     "ename": "TypeError",
     "evalue": "Cannot convert pygsti.objects.replib.fastreplib.SBStateRep to pygsti.objects.replib.fastreplib.DMStateRep",
     "output_type": "error",
     "traceback": [
      "\u001b[0;31m---------------------------------------------------------------------------\u001b[0m",
      "\u001b[0;31mTypeError\u001b[0m                                 Traceback (most recent call last)",
      "\u001b[0;31mTypeError\u001b[0m: Cannot convert pygsti.objects.replib.fastreplib.SBStateRep to pygsti.objects.replib.fastreplib.DMStateRep"
     ]
    },
    {
     "name": "stderr",
     "output_type": "stream",
     "text": [
      "Exception ignored in: 'pygsti.objects.replib.fastreplib.convert_rhoreps'\n",
      "Traceback (most recent call last):\n",
      "  File \"/Users/sserita/Documents/repos/pyGSTi/pygsti/objects/mapforwardsim.py\", line 218, in _bulk_fill_probs_block\n",
      "    replib.DM_mapfill_probs_block(self, array_to_fill, slice(0, array_to_fill.shape[0]),  # all indices\n",
      "TypeError: Cannot convert pygsti.objects.replib.fastreplib.SBStateRep to pygsti.objects.replib.fastreplib.DMStateRep\n"
     ]
    },
    {
     "ename": "TypeError",
     "evalue": "Cannot convert pygsti.objects.replib.fastreplib.SBOpRepComposed to pygsti.objects.replib.fastreplib.DMOpRep",
     "output_type": "error",
     "traceback": [
      "\u001b[0;31m---------------------------------------------------------------------------\u001b[0m",
      "\u001b[0;31mTypeError\u001b[0m                                 Traceback (most recent call last)",
      "\u001b[0;31mTypeError\u001b[0m: Cannot convert pygsti.objects.replib.fastreplib.SBOpRepComposed to pygsti.objects.replib.fastreplib.DMOpRep"
     ]
    }
   ],
   "source": [
    "mdl = pygsti.construction.create_localnoise_model(\n",
    "        n_qubits, ['Gx','Gy','Gcnot'], parameterization=\"clifford\")\n",
    "print(\"Gx gate is a \",type(mdl.operation_blks['gates']['Gx']))\n",
    "t0 = time.time()\n",
    "out5 = mdl.probabilities(c)\n",
    "print(\"%d probabilities in %.3fs\" % (len(out5), time.time()-t0))\n",
    "assert(all([np.isclose(out[k],out5[k]) for k in out])) # check that the probabilites are the same"
   ]
  },
  {
   "cell_type": "markdown",
   "metadata": {},
   "source": [
    "## 10 qubits\n",
    "Let's create a function to compare the above methods for a given number of qubits.  We'll automatically exclude the `\"densitymx\"`-`\"matrix\"` case when the number of qubits is greater than 5 as we know this is getting slow at this point.  At 10 qubits, the stabilizer and state-vector simulations are of comparable runtime (though this is largely due to the fact that *all* the outcomes are always computed - see below)."
   ]
  },
  {
   "cell_type": "code",
   "execution_count": null,
   "metadata": {},
   "outputs": [],
   "source": [
    "import pygsti, time\n",
    "\n",
    "def compare_calc_methods(n_qubits):\n",
    "    print(\"---- Comparing times for %d qubits (%d outcomes) ----\" % (n_qubits,2**n_qubits))\n",
    "    t0=time.time()\n",
    "    ps = pygsti.obj.QubitProcessorSpec(n_qubits=n_qubits, gate_names=['Gx','Gy','Gcnot'],\n",
    "                                  availability={'Gcnot': [(i,i+1) for i in range(n_qubits-1)]})\n",
    "    print(\"Create processor spec: %.3fs\" % (time.time()-t0))\n",
    "\n",
    "    c = pygsti.algorithms.randomcircuit.create_random_circuit(ps, 20)\n",
    "    print(\"Random Circuit:\")\n",
    "    print(c)\n",
    "    return\n",
    "\n",
    "    if n_qubits <= 5:\n",
    "        mdl = pygsti.construction.create_localnoise_model(\n",
    "                n_qubits, ['Gx','Gy','Gcnot'], sim_type=\"matrix\")\n",
    "        t0 = time.time()\n",
    "        mdl.probabilities(c)\n",
    "        print(\"densitymx, matrix: %.3fs\" % (time.time()-t0))\n",
    "\n",
    "        mdl = pygsti.construction.create_localnoise_model(\n",
    "                n_qubits, ['Gx','Gy','Gcnot'], parameterization=\"static unitary\", sim_type=\"matrix\")\n",
    "        t0 = time.time()\n",
    "        mdl.probabilities(c)\n",
    "        print(\"statevec, matrix: %.3fs\" % (time.time()-t0))\n",
    "\n",
    "    if n_qubits <= 12:\n",
    "        mdl = pygsti.construction.create_localnoise_model(\n",
    "            n_qubits, ['Gx','Gy','Gcnot'], sim_type=\"map\")\n",
    "        t0 = time.time()\n",
    "        mdl.probabilities(c)\n",
    "        print(\"densitymx, map: %.3fs\" % (time.time()-t0))\n",
    "\n",
    "    mdl = pygsti.construction.create_localnoise_model(\n",
    "            n_qubits, ['Gx','Gy','Gcnot'], parameterization=\"static unitary\", sim_type=\"map\")\n",
    "    t0 = time.time()\n",
    "    mdl.probabilities(c)\n",
    "    print(\"statevec, map: %.3fs\" % (time.time()-t0))\n",
    "    \n",
    "    mdl = pygsti.construction.create_localnoise_model(\n",
    "        n_qubits, ['Gx','Gy','Gcnot'], parameterization=\"clifford\")\n",
    "    t0 = time.time()\n",
    "    out5 = mdl.probabilities(c)\n",
    "    print(\"stabilizer, map: %.3fs\" % (time.time()-t0))\n",
    "    \n",
    "compare_calc_methods(10)"
   ]
  },
  {
   "cell_type": "markdown",
   "metadata": {},
   "source": [
    "## More qubits\n",
    "Going beyond 10 qubits, run times will start to get long even for the stabilizer-simulation case.  This is because pyGSTi currently *always* computes *all* the outcomes of a circuit, the number of which scales exponentially with the system size (as $2^n$ for $n$ qubits).  Future versions will remedy this technical issue, allowing you to compute *just* the outcome probabilites you want.  Once this update is released, the stabilizer state simulation will clearly be faster than either the density-matrix or state-vector approaches; for now, we can see that it get's marginally faster as the number of qubits rises (<font style=\"color:red\">note: this cell takes several minutes to run!</font>):"
   ]
  },
  {
   "cell_type": "code",
   "execution_count": null,
   "metadata": {},
   "outputs": [],
   "source": [
    "compare_calc_methods(12)"
   ]
  },
  {
   "cell_type": "code",
   "execution_count": null,
   "metadata": {},
   "outputs": [],
   "source": [
    "#compare_calc_methods(16)"
   ]
  }
 ],
 "metadata": {
  "kernelspec": {
   "display_name": "Python 3",
   "language": "python",
   "name": "python3"
  },
  "language_info": {
   "codemirror_mode": {
    "name": "ipython",
    "version": 3
   },
   "file_extension": ".py",
   "mimetype": "text/x-python",
   "name": "python",
   "nbconvert_exporter": "python",
   "pygments_lexer": "ipython3",
   "version": "3.8.6"
  }
 },
 "nbformat": 4,
 "nbformat_minor": 2
}
