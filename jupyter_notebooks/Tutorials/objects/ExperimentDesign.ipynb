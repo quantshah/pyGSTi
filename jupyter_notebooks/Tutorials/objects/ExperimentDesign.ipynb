{
 "cells": [
  {
   "cell_type": "markdown",
   "metadata": {},
   "source": [
    "# Experiment Designs\n",
    "In `pygsti`, an experiment design object specifies how to produce the data needed by a characterization protocol.  In its simplest form, it consists entirely of a list of `Circuit` objects, but for some protocols (e.g. GST) additional meta-data is needed regarding the structure and intent for these circuits (e.g. the germ and fiducial circuits and maximum lengths used to build a set of final GST circuits)."
   ]
  },
  {
   "cell_type": "code",
   "execution_count": null,
   "metadata": {},
   "outputs": [],
   "source": [
    "import pygsti\n",
    "from pygsti.objects import Circuit as C"
   ]
  },
  {
   "cell_type": "markdown",
   "metadata": {},
   "source": [
    "## Simple experiment designs\n",
    "Some protocols, such as volumetric benchmarks, don't require much or any structure among the circuits they use.  In these cases you can just build a simple experiment design consisting of one or more lists of circuits.  The `ExperimentDesign` class is the base class of all experiment design in pyGSTi and contains just a simple list of cicuits along with the qubit labels these circuits act upon.  The slightly more complicated `CircuitListsDesign` structures its circuits into several (often nested) lists.  These circuit lists often describe the circuits used by successive stages of an a protocol, e.g. circuits with different numbers of Clifford gates or germ repetitions in RB or GST respectively.  A third type of design, a `FreeformDesign`, contains just a single list (like `ExperimentDesign`) but allows you to associate arbitrary meta-data with each circuit in the list. \n",
    "\n",
    "Creating these types of experiment designs is easy.  First we create a list of circuits:"
   ]
  },
  {
   "cell_type": "code",
   "execution_count": null,
   "metadata": {},
   "outputs": [],
   "source": [
    "circuits = [C(\"Gxpi2:0\"), C(\"Gypi2:0\"), C(\"Gxpi2:0^2\"), C(\"Gypi2:0^2\")]\n",
    "circuits  # a list of Circuits"
   ]
  },
  {
   "cell_type": "markdown",
   "metadata": {},
   "source": [
    "And from that list we can construct an experiment design:"
   ]
  },
  {
   "cell_type": "code",
   "execution_count": null,
   "metadata": {},
   "outputs": [],
   "source": [
    "edesign_plain = pygsti.protocols.ExperimentDesign(circuits)\n",
    "edesign_plain.all_circuits_needing_data"
   ]
  },
  {
   "cell_type": "markdown",
   "metadata": {},
   "source": [
    "All experiment designs hold what qubits their circuits act upon:"
   ]
  },
  {
   "cell_type": "code",
   "execution_count": null,
   "metadata": {},
   "outputs": [],
   "source": [
    "edesign_plain.qubit_labels"
   ]
  },
  {
   "cell_type": "markdown",
   "metadata": {},
   "source": [
    "We could also assign the circuits to different sub-lists (here based on their depth), and create a `CircuitListsDesign` that has the same overall circuit list as the design above but with the additional structure of the sub-lists.  The `CircuitListsDesign` object just contains this structure, it doesn't dictate what the lists must be used for within a protocol.  A `Protocol` object can decide this for itself, or a more specific (derived) experiment design class may impose further presumptions on the purposes of the lists.  "
   ]
  },
  {
   "cell_type": "code",
   "execution_count": null,
   "metadata": {},
   "outputs": [],
   "source": [
    "circuits1 = [C(\"Gxpi2:0\"), C(\"Gypi2:0\")]\n",
    "circuits2 = [C(\"Gxpi2:0^2\"), C(\"Gypi2:0^2\")]\n",
    "edesign_lists = pygsti.protocols.CircuitListsDesign([circuits1, circuits2])\n",
    "edesign_lists.all_circuits_needing_data  # all of the experiment design's circuits"
   ]
  },
  {
   "cell_type": "code",
   "execution_count": null,
   "metadata": {},
   "outputs": [],
   "source": [
    "edesign_lists.circuit_lists[0]  # just the first sub-list"
   ]
  },
  {
   "cell_type": "markdown",
   "metadata": {},
   "source": [
    "If we wanted to associate some meta-data, let's say a name and ID number, with each circuit in an experiment design, we could use a `FreeformDesign`: "
   ]
  },
  {
   "cell_type": "code",
   "execution_count": null,
   "metadata": {},
   "outputs": [],
   "source": [
    "ff_design = pygsti.protocols.FreeformDesign({C(\"Gxpi2:0\"): {'id': 0, 'name': \"dog\"},\n",
    "                                             C(\"Gypi2:0\"): {'id': 1, 'name': \"cat\"},\n",
    "                                             C(\"Gxpi2:0^2\"): {'id': 2, 'name': \"trouble\"}})\n",
    "ff_design.aux_info"
   ]
  },
  {
   "cell_type": "markdown",
   "metadata": {},
   "source": [
    "### Loading from files\n",
    "Simple experiment designs can also be created by reading text files containing circuit lists from a directory.  The `create_edesign_from_dir` attempts to read in all the files beneath a root directory's `edesign` subdirectory as circuit list files (text files with one circuit per line).  If a single loadable file is found, an `ExperimentDesign` is created.  If multiple loadable files are found, a `CircuitListsDesign` is created.\n",
    "\n",
    "The cell below demonstrates the single-file case."
   ]
  },
  {
   "cell_type": "code",
   "execution_count": null,
   "metadata": {},
   "outputs": [],
   "source": [
    "import pathlib\n",
    "\n",
    "circuits = \"\"\"# Example text file of circuits\n",
    "{}@(0)\n",
    "[]@(0)\n",
    "Gxpi2:0@(0)\n",
    "Gypi2:0@(0)\n",
    "\"\"\"\n",
    "\n",
    "# Write a text file with the above circuit strings to a root/edesign directory\n",
    "root = pathlib.Path(\"../tutorial_files/example_edesign_root\")  # the root directory\n",
    "root.mkdir(exist_ok=True); (root / 'edesign').mkdir(exist_ok=True)  # create a `edesign` subdirectory\n",
    "with open(str(root / 'edesign' / 'circuits.txt'), 'w') as f:\n",
    "    f.write(circuits)\n",
    "\n",
    "edesign_from_dir = pygsti.io.create_edesign_from_dir(str(root))\n",
    "edesign_from_dir.all_circuits_needing_data"
   ]
  },
  {
   "cell_type": "markdown",
   "metadata": {},
   "source": [
    "## Protocol-specific experiment designs\n",
    "Some protocols, such as gate set tomography (GST) and randomized benchmarking (RB) require additional information about the circuits that were performed in order to perform their analysis. "
   ]
  },
  {
   "cell_type": "markdown",
   "metadata": {},
   "source": [
    "### Gate set tomography\n",
    "The `GateSetTomographyDesign` class defines an experiment design with all the necessary information to run the GST protocol.  It is derived from `CircuitListsDesign`, and holds a minimal amount of additional information, namely a *target model*.  \n",
    "\n",
    "Typically, the set of circuits used to run GST is constructed from *fiducial* and *germ* sub-circuits, the latter repeated some number of times based on a list of *maximum lengths*.  When the circuits are constructed in this \"standard\" way the `StandardGSTDesign` class should be used as it retains this additional structure.  This structure is useful for organizing (color-box) plots of the GST results later on (e.g. when generating reports), but is not strictly necessary for running the `GateSetTomography` protocol.  Thus, is it distinct (and derived from) the `GateSetTomographyDesign` class.\n",
    "\n",
    "The most common way to create a `StandardGSTDesign` is to use one of pyGSTi's built-in model packs: "
   ]
  },
  {
   "cell_type": "code",
   "execution_count": null,
   "metadata": {},
   "outputs": [],
   "source": [
    "from pygsti.modelpacks import smq1Q_XYI as std  # pack for the 1-qubit X(pi/2), Y(pi/2), Idle model \n",
    "gst_design = std.get_gst_experiment_design(max_max_length=4)\n",
    "print(len(gst_design.all_circuits_needing_data), \"GST circuits\")"
   ]
  },
  {
   "cell_type": "markdown",
   "metadata": {},
   "source": [
    "You could also use your own sets of fiducials, germs and maximum lengths:"
   ]
  },
  {
   "cell_type": "code",
   "execution_count": null,
   "metadata": {},
   "outputs": [],
   "source": [
    "target_model = std.target_model()  # a Model object\n",
    "prep_fiducials = [C(\"{}@(0)\"), C(\"Gxpi2:0\"), C(\"Gypi2:0\"), C(\"Gxpi2:0^2\")]\n",
    "meas_fiducials = [C(\"{}@(0)\"), C(\"Gxpi2:0\"), C(\"Gypi2:0\"), C(\"Gxpi2:0^2\")]\n",
    "germs = [C(\"[]@(0)\"), C(\"Gxpi2:0\"), C(\"Gypi2:0\")]  # for example, we just want to have periodic circuits of Idle,? Gxpi2 and Gypi2\n",
    "maxLengths = [1,3,6]\n",
    "gst_design2 = pygsti.protocols.StandardGSTDesign(target_model, prep_fiducials, meas_fiducials,\n",
    "                                                germs, maxLengths)\n",
    "print(len(gst_design2.all_circuits_needing_data), \"GST circuits\")"
   ]
  },
  {
   "cell_type": "markdown",
   "metadata": {},
   "source": [
    "Finally, you can construct a `GateSetTomographyDesign` using any set of circuits you please.  It is useful, for the stability of the GST algorithm, that these be divided into nested lists of increasingly longer (deeper) circuits.  The cell below illustrates this technique, but specifies too few circuits for finding estimates of all the degrees of freedom in a typical GST model.  When specifying circuits manually like this, it is important to keep in mind that the quality of a GST estimate depends on the data used to generate it.  "
   ]
  },
  {
   "cell_type": "code",
   "execution_count": null,
   "metadata": {},
   "outputs": [],
   "source": [
    "target_model = std.target_model()  # a Model object\n",
    "circuits1 = [C(\"[]@(0)\"), C(\"Gxpi2:0\"), C(\"Gypi2:0\")]\n",
    "circuits2 = [C(\"[]^2@(0)\"), C(\"Gxpi2:0^2\"), C(\"Gypi2:0^2\")]\n",
    "circuits3 = [C(\"[]^8@(0)\"), C(\"Gxpi2:0^8\"), C(\"Gypi2:0^8\")]\n",
    "\n",
    "gst_design3 = pygsti.protocols.GateSetTomographyDesign(target_model, [circuits1, circuits2, circuits3])\n",
    "gst_design3.all_circuits_needing_data"
   ]
  },
  {
   "cell_type": "markdown",
   "metadata": {},
   "source": [
    "### Randomized Benchmarking\n",
    "The `CliffordRBDesign`, `DirectRBDesign`, and `MirrorRBDesign` classes define experiment designs with all the necessary information to run the randomized benchmarking (RB) protocol using different ensembles of circuits.  These classes are also derived from `CircuitListsDesign`, and hold additionally meta-data needed to run the RB protocol (primarily what the correct outcome of each random circuit is).\n",
    "\n",
    "We create these experiment designs using a processor specification and counts of the depths and number of random circuits per depth that should be generated.  The cell below demonstrates this for the Clifford RB case."
   ]
  },
  {
   "cell_type": "code",
   "execution_count": null,
   "metadata": {},
   "outputs": [],
   "source": [
    "qubit_labels = ['Q1']\n",
    "gate_names = ['Gxpi2', 'Gxmpi2', 'Gypi2', 'Gympi2']\n",
    "pspec = pygsti.obj.ProcessorSpec(len(qubit_labels), gate_names,\n",
    "                 qubit_labels=qubit_labels, construct_models=('target','clifford','TP'))\n",
    "depths = [0, 10, 20, 30]\n",
    "circuits_per_depth = 50\n",
    "\n",
    "rb_design = pygsti.protocols.CliffordRBDesign(pspec, depths, circuits_per_depth)"
   ]
  },
  {
   "cell_type": "markdown",
   "metadata": {},
   "source": [
    "The `DirectRBDesign` and `MirrorRBDesign` classes are used similarly."
   ]
  },
  {
   "cell_type": "markdown",
   "metadata": {},
   "source": [
    "## Simultaneous and combined experiment designs\n",
    "It is not uncommon to run multiple characterization protocols on a single processor, and it can be desirable to run circuits for multiple protocols in a single round of data-taking.  The `CombinedExperimentDesign` and `SimultaneousExperimentDesign` classes allow you to build a *hierarchy* of nested experiment designs that facilitate a multiple-protocols-on-one-processor paradigm.\n",
    "\n",
    "- A `CombinedExperimentDesign` acts as a folder for any number of other experiment designs.  The combined design's circuits are just the concatenation (but without duplicates) of the circuits of its sub-designs.  A combined design can be used to create an \"umbrella\" experiment design containing the circuits for multiple protocols whose circuits are disjoint, in which case the combined design acts as a folder of circuit lists.  A combined design could also hold multiple sub-designs that share the same overall circuit list but supply different structure (meta-data) about these circuits.  In this case the combined design acts as a folder of circuit structures, all for the same set of circuits.\n",
    "\n",
    "- A `SimultaneousExperimentDesign` describes the concurrent application of one or more experiment designs on different disjoint subsets of the simultaneou design's qubits.  The sub-designs of a simultaneous design must therefore act (i.e. have circuits that act) on different sets of qubits.  The circuits of the simultaneous design are the \"tensor-product\" of the circuits on its sub-designs.  When one sub-design has more circuits than another, the shorter design is \"padded\" with idle circuits.\n",
    "\n",
    "The examples below show how to create combined and simultanous experiment designs using simple `ExperimentDesign` objects as their members.\n",
    "\n",
    "### Combined experiment designs"
   ]
  },
  {
   "cell_type": "code",
   "execution_count": null,
   "metadata": {},
   "outputs": [],
   "source": [
    "edesignA = pygsti.protocols.ExperimentDesign([C(\"Gxpi2:0\"), C(\"Gypi2:0\"), C(\"Gxpi2:0^2\"), C(\"Gypi2:0^2\")])\n",
    "edesignB = pygsti.protocols.ExperimentDesign([C(\"Gxpi2:0\"), C(\"Gypi2:0\"), C(\"Gxpi2:0^4\"), C(\"Gypi2:0^4\")])\n",
    "\n",
    "combined_design = pygsti.protocols.CombinedExperimentDesign({'A': edesignA, 'B': edesignB})\n",
    "combined_design.all_circuits_needing_data"
   ]
  },
  {
   "cell_type": "markdown",
   "metadata": {},
   "source": [
    "Note that circuits common to `edesignA` and `edesignB` are not repeated in the combined design's circuits.  To access one of the sub-designs, you simply index the combined design:"
   ]
  },
  {
   "cell_type": "code",
   "execution_count": null,
   "metadata": {},
   "outputs": [],
   "source": [
    "combined_design['A'].all_circuits_needing_data"
   ]
  },
  {
   "cell_type": "markdown",
   "metadata": {},
   "source": [
    "It is possible to add sub-designs to a combined design as long as the overall list of circuits doesn't change.  (This is required so that the `.all_circuits_needing_data` list of any existing experiment can be treated as immutable and used as a reliable index, e.g. for data.)  For example, a design containing just the `*^4` circuits could be added: "
   ]
  },
  {
   "cell_type": "code",
   "execution_count": null,
   "metadata": {},
   "outputs": [],
   "source": [
    "edesignC = pygsti.protocols.ExperimentDesign([C(\"Gxpi2:0^4\"), C(\"Gypi2:0^4\")])\n",
    "combined_design['C'] = edesignC"
   ]
  },
  {
   "cell_type": "markdown",
   "metadata": {},
   "source": [
    "But a design containing *new* circuits cannot be:"
   ]
  },
  {
   "cell_type": "code",
   "execution_count": null,
   "metadata": {},
   "outputs": [],
   "source": [
    "edesignD = pygsti.protocols.ExperimentDesign([C(\"Gxpi2:0^8\"), C(\"Gypi2:0^8\")])\n",
    "try:\n",
    "    combined_design['D'] = edesignD\n",
    "except Exception as e:\n",
    "    print(\"ERROR: \", str(e))"
   ]
  },
  {
   "cell_type": "markdown",
   "metadata": {},
   "source": [
    "Finally, if you have a non-`CombinedDesign` experiment design that you decide later on you'd like to be a combined design, it is possible to *promote* many of the other experiment design types in pyGSTi to a combined design. For example, after creating an experiment design you may decide there is additional/different structure you wish to store about the circuits, or that you'd like to single out a subset of the circuits for special processing.  Here is an example of how to do this for a standard `ExperimentDesign`."
   ]
  },
  {
   "cell_type": "code",
   "execution_count": null,
   "metadata": {},
   "outputs": [],
   "source": [
    "combined_designA = edesignA.promote_to_combined(name='entire')\n",
    "edesign_singlegates = pygsti.protocols.ExperimentDesign([C(\"Gxpi2:0\"), C(\"Gypi2:0\")])\n",
    "combined_designA['single_gates'] = edesign_singlegates\n",
    "combined_designA.keys()"
   ]
  },
  {
   "cell_type": "code",
   "execution_count": null,
   "metadata": {},
   "outputs": [],
   "source": [
    "combined_designA.all_circuits_needing_data"
   ]
  },
  {
   "cell_type": "code",
   "execution_count": null,
   "metadata": {},
   "outputs": [],
   "source": [
    "combined_designA['entire'].all_circuits_needing_data"
   ]
  },
  {
   "cell_type": "code",
   "execution_count": null,
   "metadata": {},
   "outputs": [],
   "source": [
    "combined_designA['single_gates'].all_circuits_needing_data"
   ]
  },
  {
   "cell_type": "markdown",
   "metadata": {},
   "source": [
    "### Simultaneous experiment designs"
   ]
  },
  {
   "cell_type": "code",
   "execution_count": null,
   "metadata": {},
   "outputs": [],
   "source": [
    "edesign_on_0 = pygsti.protocols.ExperimentDesign([C(\"Gxpi2:0\"), C(\"Gypi2:0\"), C(\"Gxpi2:0^2\"), C(\"Gypi2:0^2\")])\n",
    "edesign_on_1 = pygsti.protocols.ExperimentDesign([C(\"Gxpi2:1\"), C(\"Gypi2:1\"), C(\"Gxpi2:1^2\")])\n",
    "\n",
    "sim_design = pygsti.protocols.SimultaneousExperimentDesign([edesign_on_0, edesign_on_1])\n",
    "sim_design.all_circuits_needing_data"
   ]
  },
  {
   "cell_type": "markdown",
   "metadata": {},
   "source": [
    "Notice that in the final circuit the `\"Gypi2:0^2\"` circuit was padded with idle operations to become `\"Gypi2:(0,1)^2\"` since there is no fourth circuit in the `edesign_on_1` design.  The `.qubit_labels` of a simultaneous design are, by default, the union of the qubits acted on by its sub-designs:"
   ]
  },
  {
   "cell_type": "code",
   "execution_count": null,
   "metadata": {},
   "outputs": [],
   "source": [
    "sim_design.qubit_labels"
   ]
  },
  {
   "cell_type": "markdown",
   "metadata": {},
   "source": [
    "But these qubit labels can also be given directly, in which case all the circuits in the design are always constructed to act on these qubits (this is equivalent to padding the un-specified qubits with idles):"
   ]
  },
  {
   "cell_type": "code",
   "execution_count": null,
   "metadata": {},
   "outputs": [],
   "source": [
    "sim_design2 = pygsti.protocols.SimultaneousExperimentDesign([edesign_on_0], qubit_labels=(0,1,2))\n",
    "sim_design2.all_circuits_needing_data"
   ]
  },
  {
   "cell_type": "markdown",
   "metadata": {},
   "source": [
    "Note that all of the above circuits have qubit labels `(0,1,2)` even though the simultaneous design was only given a single sub-design with circuits on qubit `0`. "
   ]
  },
  {
   "cell_type": "markdown",
   "metadata": {},
   "source": [
    "## Loading and saving experiment designs\n",
    "Once an experiment design is created, loading and saving it to a directory is easy.  Experiment designs write their data to the `edesign` sub-directory beneath the specified root directory.  Combined and simultaneous designs write to and load from a directory structure that mimics their structure.  That is, there will be a sub-directory for each sub-design."
   ]
  },
  {
   "cell_type": "code",
   "execution_count": null,
   "metadata": {},
   "outputs": [],
   "source": [
    "gst_design.write(\"../tutorial_files/example_gst_edesign_root\")\n",
    "combined_design.write(\"../tutorial_files/example_combined_edesign_root\")\n",
    "sim_design.write(\"../tutorial_files/example_simultaneous_edesign_root\")"
   ]
  },
  {
   "cell_type": "code",
   "execution_count": null,
   "metadata": {},
   "outputs": [],
   "source": [
    "gst_design_loaded = pygsti.io.load_edesign_from_dir(\"../tutorial_files/example_gst_edesign_root\")\n",
    "combined_design_loaded = pygsti.io.load_edesign_from_dir(\"../tutorial_files/example_combined_edesign_root\")\n",
    "sim_design_loaded = pygsti.io.load_edesign_from_dir(\"../tutorial_files/example_simultaneous_edesign_root\")"
   ]
  },
  {
   "cell_type": "code",
   "execution_count": null,
   "metadata": {},
   "outputs": [],
   "source": []
  }
 ],
 "metadata": {
  "kernelspec": {
   "display_name": "Python 3",
   "language": "python",
   "name": "python3"
  },
  "language_info": {
   "codemirror_mode": {
    "name": "ipython",
    "version": 3
   },
   "file_extension": ".py",
   "mimetype": "text/x-python",
   "name": "python",
   "nbconvert_exporter": "python",
   "pygments_lexer": "ipython3",
   "version": "3.8.5"
  }
 },
 "nbformat": 4,
 "nbformat_minor": 4
}
